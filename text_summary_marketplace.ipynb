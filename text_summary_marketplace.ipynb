{
 "cells": [
  {
   "cell_type": "markdown",
   "metadata": {},
   "source": [
    "# Usage Instructions - Mphasis DeepInsights Text Summarizer\n",
    "\n",
    "DeepInsights is a cloud-based cognitive computing platform that offers data extraction & predictive analytics capabilities. Text Summarization is an optimal way to tackle the problem of information overload by reducing the size of long document into a few sentences or paragraphs.The recent advance in neural network architecture and training algorithms has shown the effectiveness of representation learning. The neural-network-based models generate better representation than the traditional ones. They have the ability to automatically learn the distributed representation for sentences and documents. This summarizer is built using Transfer Learning, Transformer based models which use self attention.\n",
    "\n"
   ]
  },
  {
   "cell_type": "markdown",
   "metadata": {},
   "source": [
    "## Contents\n",
    "\n",
    "1. [Prequisites](#Prerequisite)\n",
    "1. [Data Dictionary](#Data-Dictionary)\n",
    "1. [Set Up The Environment](#Set-up-the-environment)\n",
    "1. [Create The Model](#Create-Model)\n",
    "1. [Batch Transform Job](#Batch-Transform-Job)\n",
    "1. [Invoke Endpoint](#Invoking-through-Endpoint)"
   ]
  },
  {
   "cell_type": "markdown",
   "metadata": {},
   "source": [
    "### Prerequisites\n",
    "\n",
    "To run this algorithm you need to have access to the following AWS Services:\n",
    "- Access to AWS SageMaker and the model package.\n",
    "- An S3 bucket to specify input/output.\n",
    "- Role for AWS SageMaker to access input/output from S3.\n"
   ]
  },
  {
   "cell_type": "markdown",
   "metadata": {},
   "source": [
    "### Data Dictionary\n",
    "\n",
    "- The input has to be a '.txt' file with 'utf-8' encoding. PLEASE NOTE: If your input .txt file is not 'utf-8' encoded, model   will not perform as expected\n",
    "- The input can have a maximum of 512 words.\n",
    "- To make sure that your input file is 'UTF-8' encoded please 'Save As' using Encoding as 'UTF-8'"
   ]
  },
  {
   "cell_type": "markdown",
   "metadata": {},
   "source": [
    "## Set up the environment\n",
    "\n",
    "\n",
    "### Update Boto Client and AWS SDK\n",
    "\n",
    "We are launching new APIs in SageMaker to support this new functionality. The next cell sets it up for you to invoke the new APIs.\n",
    "\n",
    "### Private Beta Setup\n",
    "\n",
    "The private beta is limited to us-east-2 region. The client we are creating below will be hard-coded to talk to our us-east-2 endpoint only.\n",
    "\n"
   ]
  },
  {
   "cell_type": "markdown",
   "metadata": {},
   "source": [
    "### Sample input data"
   ]
  },
  {
   "cell_type": "code",
   "execution_count": 8,
   "metadata": {},
   "outputs": [],
   "source": [
    "with open('./self_driving_test.txt', 'rb') as file_stream:\n",
    "    input_text = file_stream.read().decode('utf-8')"
   ]
  },
  {
   "cell_type": "code",
   "execution_count": 9,
   "metadata": {
    "scrolled": true
   },
   "outputs": [
    {
     "name": "stdout",
     "output_type": "stream",
     "text": [
      "﻿An autonomous car, also known as a robotic car, self-driving car, or driverless car,[1][2] is a vehicle that is capable of sensing its environment and moving with little or no human input.[3]\r\n",
      "\r\n",
      "Autonomous cars combine a variety of sensors to perceive their surroundings, such as radar, Lidar, sonar, GPS, odometry and inertial measurement units. Advanced control systems interpret sensory information to identify appropriate navigation paths, as well as obstacles and relevant signage.[4][5]\r\n",
      "\r\n",
      "Long distance trucks are seen as being in the forefront of adopting and implementing the technology.[6]\r\n",
      "\r\n",
      "History\r\n",
      "\r\n",
      "Main article: History of self-driving cars\r\n",
      "Experiments have been conducted on automated driving systems (ADS) since at least the 1920s;[7] trials began in the 1950s. The first semi-automated car was developed in 1977, by Japan's Tsukuba Mechanical Engineering Laboratory, which required specially marked streets that were interpreted by two cameras on the vehicle and an analog computer. The vehicle reached speeds up to 30 kilometres per hour (19 mph) with the support of an elevated rail.[8][9]\r\n",
      "\r\n",
      "The first truly autonomous cars appeared in the 1980s, with Carnegie Mellon University's Navlab[10] and ALV[11][12] projects funded by DARPA starting in 1984 and Mercedes-Benz and Bundeswehr University Munich's EUREKA Prometheus Project[13] in 1987. By 1985, the ALV had demonstrated self-driving speeds on two-lane roads of 31 kilometres per hour (19 mph) with obstacle avoidance added in 1986 and off-road driving in day and nighttime conditions by 1987.[14] A major milestone was achieved in 1995, with CMU's NavLab 5 completing the first autonomous coast-to-coast drive of the United States. Of the 2,849 miles between Pittsburgh, PA and San Diego, CA, 2,797 miles were autonomous (98.2%), completed with an average speed of 63.8 miles per hour (102.3 km/h).[15][16][17][18] From the 1960s through the second DARPA Grand Challenge in 2005, automated vehicle research in the U.S. was primarily funded by DARPA, the US Army, and the U.S. Navy, yielding incremental advances in speeds, driving competence in more complex conditions, controls, and sensor systems.[19] Companies and research organizations have developed prototypes.[13][20][21][22][23][24][25][26][27]\r\n",
      "\r\n",
      "The U.S. allocated $650 million in 1991 for research on the National Automated Highway System, which demonstrated automated driving through a combination of automation, embedded in the highway with automated technology in vehicles and cooperative networking between the vehicles and with the highway infrastructure. The program concluded with a successful demonstration in 1997 but without clear direction or funding to implement the system on a larger scale.[28] Partly funded by the National Automated Highway System and DARPA, the Carnegie Mellon University Navlab drove 4,584 kilometres (2,848 mi) across America in 1995, 4,501 kilometres (2,797 mi) or 98% of it autonomously.[29] Navlab's record achievement stood unmatched for two decades until 2015 when Delphi improved it by piloting an Audi, augmented with Delphi technology, over 5,472 kilometres (3,400 mi) through 15 states while remaining in self-driving mode 99% of the time.[30] In 2015, the US states of Nevada, Florida, California, Virginia, and Michigan, together with Washington, D.C., allowed the testing of automated cars on public roads.[31]\r\n",
      "\r\n",
      "In 2017, Audi stated that its latest A8 would be automated at speeds of up to 60 kilometres per hour (37 mph) using its \"Audi AI\". The driver would not have to do safety checks such as frequently gripping the steering wheel. The Audi A8 was claimed to be the first production car to reach level 3 automated driving, and Audi would be the first manufacturer to use laser scanners in addition to cameras and ultrasonic sensors for their system.[32]\r\n",
      "\r\n",
      "In November 2017, Waymo announced that it had begun testing driverless cars without a safety driver in the driver position;[33] however, there was still an employee in the car.[34] In October 2018, Waymo announced that its test vehicles had traveled in automated mode for over 10,000,000 miles (16,000,000 km), increasing by about 1,000,000 miles (1,600,000 kilometres) per month.[35] In December 2018, Waymo was the first to commercialize a fully autonomous taxi service in the U.S.[36]\r\n",
      "\r\n",
      "Definitions\r\n",
      "There is some inconsistency in the terminology used in the self-driving car industry. Various organizations have proposed to define an accurate and consistent vocabulary.\r\n",
      "\r\n",
      "Such confusion has been documented in SAE J3016 which states that \"Some vernacular usages associate autonomous specifically with full driving automation (level 5), while other usages apply it to all levels of driving automation, and some state legislation has defined it to correspond approximately to any ADS at or above level 3 (or to any vehicle equipped with such an ADS).\"\r\n",
      "\r\n",
      "Words definition and safety considerations\r\n",
      "Modern vehicles provide partly automated features such as keeping the car within its lane, speed controls or emergency braking. Nonetheless, differences remain between a fully autonomous self-driving car on one hand and driver assistance technologies on the other hand. According to the BBC, confusion between those concepts leads to deaths.[37]\r\n",
      "\r\n",
      "Association of British Insurers considers the usage of the word autonomous in marketing for modern cars to be dangerous because car ads make motorists think 'autonomous' and 'autopilot' means a vehicle can drive itself when they still rely on the driver to ensure safety. Technology alone still is not able to drive the car.\r\n",
      "\r\n",
      "When some car makers suggest or claim vehicles are self-driving, when they are only partly automated, drivers risk becoming excessively confident, leading to crashes, while fully self-driving cars are still a long way off in the UK.[38]\r\n",
      "\r\n",
      "Autonomous vs. automated\r\n",
      "Autonomous means self-governing.[39] Many historical projects related to vehicle automation have been automated (made automatic) subject to a heavy reliance on artificial aids in their environment, such as magnetic strips. Autonomous control implies satisfactory performance under significant uncertainties in the environment and the ability to compensate for system failures without external intervention.[39]\r\n",
      "\r\n",
      "One approach is to implement communication networks both in the immediate vicinity (for collision avoidance) and farther away (for congestion management). Such outside influences in the decision process reduce an individual vehicle's autonomy, while still not requiring human intervention.\r\n",
      "\r\n",
      "Wood et al. (2012) wrote, \"This Article generally uses the term 'autonomous,' instead of the term 'automated.' \" The term \"autonomous\" was chosen \"because it is the term that is currently in more widespread use (and thus is more familiar to the general public). However, the latter term is arguably more accurate. 'Automated' connotes control or operation by a machine, while 'autonomous' connotes acting alone or independently. Most of the vehicle concepts (that we are currently aware of) have a person in the driver's seat, utilize a communication connection to the Cloud or other vehicles, and do not independently select either destinations or routes for reaching them. Thus, the term 'automated' would more accurately describe these vehicle concepts.\"[40] As of 2017, most commercial projects focused on automated vehicles that did not communicate with other vehicles or with an enveloping management regime. EuroNCAP defines autonomous in \"Autonomous Emergency Braking\" as: \"the system acts independently of the driver to avoid or mitigate the accident.\" which implies the autonomous system is not the driver.[41]\r\n",
      "\r\n",
      "\r\n",
      "\r\n",
      "\n"
     ]
    }
   ],
   "source": [
    "print(input_text)"
   ]
  },
  {
   "cell_type": "markdown",
   "metadata": {},
   "source": [
    "### Create the session\n",
    "\n",
    "The session remembers our connection parameters to SageMaker. We'll use it to perform all of our SageMaker operations."
   ]
  },
  {
   "cell_type": "code",
   "execution_count": 10,
   "metadata": {},
   "outputs": [],
   "source": [
    "import sagemaker as sage\n",
    "from time import gmtime, strftime\n",
    "from sagemaker import get_execution_role\n",
    "\n",
    "sess = sage.Session()\n",
    "role = get_execution_role()"
   ]
  },
  {
   "cell_type": "markdown",
   "metadata": {},
   "source": [
    "## Create Model\n",
    "\n",
    "Now we use the Model Package to create a model"
   ]
  },
  {
   "cell_type": "code",
   "execution_count": 11,
   "metadata": {},
   "outputs": [],
   "source": [
    "# Please use the appropriate ARN obtained after subscribing to the model to define 'model_package_arn'\n",
    "\n",
    "model_package_arn = 'arn:aws:sagemaker:us-east-2:786796469737:model-package/marketplace-text-summarizer-11-4'\n",
    "from sagemaker import ModelPackage\n",
    "import sagemaker as sage\n",
    "from sagemaker import get_execution_role\n",
    "\n",
    "role = get_execution_role()\n",
    "sagemaker_session = sage.Session()\n",
    "model = ModelPackage(model_package_arn=model_package_arn,\n",
    "                    role = role,\n",
    "                    sagemaker_session = sagemaker_session)\n"
   ]
  },
  {
   "cell_type": "markdown",
   "metadata": {},
   "source": [
    "## Input File\n",
    "\n",
    "Now we pull a sample input file for testing the model."
   ]
  },
  {
   "cell_type": "code",
   "execution_count": 12,
   "metadata": {},
   "outputs": [],
   "source": [
    "sample_txt=\"s3://aws-marketplace-mphasis-assets/Text Summarizer/self_driving.txt\""
   ]
  },
  {
   "cell_type": "markdown",
   "metadata": {},
   "source": [
    "## Batch Transform Job\n",
    "\n",
    "Now let's use the model built to run a batch inference job and verify it works."
   ]
  },
  {
   "cell_type": "code",
   "execution_count": 13,
   "metadata": {},
   "outputs": [
    {
     "name": "stdout",
     "output_type": "stream",
     "text": [
      "........................\n",
      ".\u001b[32m2020-04-11T17:51:29.109:[sagemaker logs]: MaxConcurrentTransforms=1, MaxPayloadInMB=6, BatchStrategy=MULTI_RECORD\u001b[0m\n",
      "\u001b[34m * Serving Flask app \"serve\" (lazy loading)\n",
      " * Environment: production\n",
      "   WARNING: This is a development server. Do not use it in a production deployment.\n",
      "   Use a production WSGI server instead.\n",
      " * Debug mode: off\n",
      " * Running on http://0.0.0.0:8080/ (Press CTRL+C to quit)\u001b[0m\n",
      "\u001b[34m169.254.255.130 - - [11/Apr/2020 17:51:29] \"#033[37mGET /ping HTTP/1.1#033[0m\" 200 -\u001b[0m\n",
      "\u001b[34m169.254.255.130 - - [11/Apr/2020 17:51:29] \"#033[33mGET /execution-parameters HTTP/1.1#033[0m\" 404 -\u001b[0m\n",
      "\u001b[35m * Serving Flask app \"serve\" (lazy loading)\n",
      " * Environment: production\n",
      "   WARNING: This is a development server. Do not use it in a production deployment.\n",
      "   Use a production WSGI server instead.\n",
      " * Debug mode: off\n",
      " * Running on http://0.0.0.0:8080/ (Press CTRL+C to quit)\u001b[0m\n",
      "\u001b[35m169.254.255.130 - - [11/Apr/2020 17:51:29] \"#033[37mGET /ping HTTP/1.1#033[0m\" 200 -\u001b[0m\n",
      "\u001b[35m169.254.255.130 - - [11/Apr/2020 17:51:29] \"#033[33mGET /execution-parameters HTTP/1.1#033[0m\" 404 -\u001b[0m\n",
      "\u001b[34m---input--- ﻿An autonomous car, also known as a robotic car, self-driving car, or driverless car,[1][2] is a vehicle that is capable of sensing its environment and moving with little or no human input.[3]#015\u001b[0m\n",
      "\u001b[34m#015\u001b[0m\n",
      "\u001b[34mAutonomous cars combine a variety of sensors to perceive their surroundings, such as radar, Lidar, sonar, GPS, odometry and inertial measurement units. Advanced control systems interpret sensory information to identify appropriate navigation paths, as well as obstacles and relevant signage.[4][5]#015\u001b[0m\n",
      "\u001b[34m#015\u001b[0m\n",
      "\u001b[34mLong distance trucks are seen as being in the forefront of adopting and implementing the technology.[6]#015\u001b[0m\n",
      "\u001b[34m#015\u001b[0m\n",
      "\u001b[34mHistory#015\u001b[0m\n",
      "\u001b[34m#015\u001b[0m\n",
      "\u001b[34mMain article: History of self-driving cars#015\u001b[0m\n",
      "\u001b[34mExperiments have been conducted on automated driving systems (ADS) since at least the 1920s;[7] trials began in the 1950s. The first semi-automated car was developed in 1977, by Japan's Tsukuba Mechanical Engineering Laboratory, which required specially marked streets that were interpreted by two cameras on the vehicle and an analog computer. The vehicle reached speeds up to 30 kilometres per hour (19 mph) with the support of an elevated rail.[8][9]#015\u001b[0m\n",
      "\u001b[34m#015\u001b[0m\n",
      "\u001b[34mThe first truly autonomous cars appeared in the 1980s, with Carnegie Mellon University's Navlab[10] and ALV[11][12] projects funded by DARPA starting in 1984 and Mercedes-Benz and Bundeswehr University Munich's EUREKA Prometheus Project[13] in 1987. By 1985, the ALV had demonstrated self-driving speeds on two-lane roads of 31 kilometres per hour (19 mph) with obstacle avoidance added in 1986 and off-road driving in day and nighttime conditions by 1987.[14] A major milestone was achieved in 1995, with CMU's NavLab 5 completing the first autonomous coast-to-coast drive of the United States. Of the 2,849 miles between Pittsburgh, PA and San Diego, CA, 2,797 miles were autonomous (98.2%), completed with an average speed of 63.8 miles per hour (102.3 km/h).[15][16][17][18] From the 1960s through the second DARPA Grand Challenge in 2005, automated vehicle research in the U.S. was primarily funded by DARPA, the US Army, and the U.S. Navy, yielding incremental advances in speeds, driving competence in more complex conditions, controls, and sensor systems.[19] Companies and research organizations have developed prototypes.[13][20][21][22][23][24][25][26][27]#015\u001b[0m\n",
      "\u001b[34m#015\u001b[0m\n",
      "\u001b[34mThe U.S. allocated $650 million in 1991 for research on the National Automated Highway System, which demonstrated automated driving through a combination of automation, embedded in the highway with automated technology in vehicles and cooperative networking between the vehicles and with the highway infrastructure. The program concluded with a successful demonstration in 1997 but without clear direction or funding to implement the system on a larger scale.[28] Partly funded by the National Automated Highway System and DARPA, the Carnegie Mellon University Navlab drove 4,584 kilometres (2,848 mi) across America in 1995, 4,501 kilometres (2,797 mi) or 98% of it autonomously.[29] Navlab's record achievement stood unmatched for two decades until 2015 when Delphi improved it by piloting an Audi, augmented with Delphi technology, over 5,472 kilometres (3,400 mi) through 15 states while remaining in self-driving mode 99% of the time.[30] In 2015, the US states of Nevada, Florida, California, Virginia, and Michigan, together with Washington, D.C., allowed the testing of automated cars on public roads.[31]#015\u001b[0m\n",
      "\u001b[34m#015\u001b[0m\n",
      "\u001b[34mIn 2017, Audi stated that its latest A8 would be automated at speeds of up to 60 kilometres per hour (37 mph) using its \"Audi AI\". The driver would not have to do safety checks such as frequently gripping the steering wheel. The Audi A8 was claimed to be the first production car to reach level 3 automated driving, and Audi would be the first manufacturer to use laser scanners in addition to cameras and ultrasonic sensors for their system.[32]#015\u001b[0m\n",
      "\u001b[34m#015\u001b[0m\n",
      "\u001b[34mIn November 2017, Waymo announced that it had begun testing driverless cars without a safety driver in the driver position;[33] however, there was still an employee in the car.[34] In October 2018, Waymo announced that its test vehicles had traveled in automated mode for over 10,000,000 miles (16,000,000 km), increasing by about 1,000,000 miles (1,600,000 kilometres) per month.[35] In December 2018, Waymo was the first to commercialize a fully autonomous taxi service in the U.S.[36]#015\u001b[0m\n",
      "\u001b[34m#015\u001b[0m\n",
      "\u001b[34mDefinitions#015\u001b[0m\n",
      "\u001b[34mThere is some inconsistency in the terminology used in the self-driving car industry. Various organizations have proposed to define an accurate and consistent vocabulary.#015\u001b[0m\n",
      "\u001b[34m#015\u001b[0m\n",
      "\u001b[34mSuch confusion has been documented in SAE J3016 which states that \"Some vernacular usages associate autonomous specifically with full driving automation (level 5), while other usages apply it to all levels of driving automation, and some state legislation has defined it to correspond approximately to any ADS at or above level 3 (or to any vehicle equipped with such an ADS).\"#015\u001b[0m\n",
      "\u001b[34m#015\u001b[0m\n",
      "\u001b[34mWords definition and safety considerations#015\u001b[0m\n",
      "\u001b[34mModern vehicles provide partly automated features such as keeping the car within its lane, speed controls or emergency braking. Nonetheless, differences remain between a fully autonomous self-driving car on one hand and driver assistance technologies on the other hand. According to the BBC, confusion between those concepts leads to deaths.[37]#015\u001b[0m\n",
      "\u001b[34m#015\u001b[0m\n",
      "\u001b[34mAssociation of British Insurers considers the usage of the word autonomous in marketing for modern cars to be dangerous because car ads make motorists think 'autonomous' and 'autopilot' means a vehicle can drive itself when they still rely on the driver to ensure safety. Technology alone still is not able to drive the car.#015\u001b[0m\n",
      "\u001b[34m#015\u001b[0m\n",
      "\u001b[34mWhen some car makers suggest or claim vehicles are self-driving, when they are only partly automated, drivers risk becoming excessively confident, leading to crashes, while fully self-driving cars are still a long way off in the UK.[38]#015\u001b[0m\n",
      "\u001b[34m#015\u001b[0m\n",
      "\u001b[34mAutonomous vs. automated#015\u001b[0m\n",
      "\u001b[34mAutonomous means self-governing.[39] Many historical projects related to vehicle automation have been automated (made automatic) subject to a heavy reliance on artificial aids in their environment, such as magnetic strips. Autonomous control implies satisfactory performance under significant uncertainties in the environment and the ability to compensate for system failures without external intervention.[39]#015\u001b[0m\n",
      "\u001b[34m#015\u001b[0m\n",
      "\u001b[34mOne approach is to implement communication networks both in the immediate vicinity (for collision avoidance) and farther away (for congestion management). Such outside influences in the decision process reduce an individual vehicle's autonomy, while still not requiring human intervention.#015\u001b[0m\n",
      "\u001b[35m---input--- ﻿An autonomous car, also known as a robotic car, self-driving car, or driverless car,[1][2] is a vehicle that is capable of sensing its environment and moving with little or no human input.[3]#015\u001b[0m\n",
      "\u001b[35m#015\u001b[0m\n",
      "\u001b[35mAutonomous cars combine a variety of sensors to perceive their surroundings, such as radar, Lidar, sonar, GPS, odometry and inertial measurement units. Advanced control systems interpret sensory information to identify appropriate navigation paths, as well as obstacles and relevant signage.[4][5]#015\u001b[0m\n",
      "\u001b[35m#015\u001b[0m\n",
      "\u001b[35mLong distance trucks are seen as being in the forefront of adopting and implementing the technology.[6]#015\u001b[0m\n",
      "\u001b[35m#015\u001b[0m\n",
      "\u001b[35mHistory#015\u001b[0m\n",
      "\u001b[35m#015\u001b[0m\n",
      "\u001b[35mMain article: History of self-driving cars#015\u001b[0m\n",
      "\u001b[35mExperiments have been conducted on automated driving systems (ADS) since at least the 1920s;[7] trials began in the 1950s. The first semi-automated car was developed in 1977, by Japan's Tsukuba Mechanical Engineering Laboratory, which required specially marked streets that were interpreted by two cameras on the vehicle and an analog computer. The vehicle reached speeds up to 30 kilometres per hour (19 mph) with the support of an elevated rail.[8][9]#015\u001b[0m\n",
      "\u001b[35m#015\u001b[0m\n",
      "\u001b[35mThe first truly autonomous cars appeared in the 1980s, with Carnegie Mellon University's Navlab[10] and ALV[11][12] projects funded by DARPA starting in 1984 and Mercedes-Benz and Bundeswehr University Munich's EUREKA Prometheus Project[13] in 1987. By 1985, the ALV had demonstrated self-driving speeds on two-lane roads of 31 kilometres per hour (19 mph) with obstacle avoidance added in 1986 and off-road driving in day and nighttime conditions by 1987.[14] A major milestone was achieved in 1995, with CMU's NavLab 5 completing the first autonomous coast-to-coast drive of the United States. Of the 2,849 miles between Pittsburgh, PA and San Diego, CA, 2,797 miles were autonomous (98.2%), completed with an average speed of 63.8 miles per hour (102.3 km/h).[15][16][17][18] From the 1960s through the second DARPA Grand Challenge in 2005, automated vehicle research in the U.S. was primarily funded by DARPA, the US Army, and the U.S. Navy, yielding incremental advances in speeds, driving competence in more complex conditions, controls, and sensor systems.[19] Companies and research organizations have developed prototypes.[13][20][21][22][23][24][25][26][27]#015\u001b[0m\n",
      "\u001b[35m#015\u001b[0m\n",
      "\u001b[35mThe U.S. allocated $650 million in 1991 for research on the National Automated Highway System, which demonstrated automated driving through a combination of automation, embedded in the highway with automated technology in vehicles and cooperative networking between the vehicles and with the highway infrastructure. The program concluded with a successful demonstration in 1997 but without clear direction or funding to implement the system on a larger scale.[28] Partly funded by the National Automated Highway System and DARPA, the Carnegie Mellon University Navlab drove 4,584 kilometres (2,848 mi) across America in 1995, 4,501 kilometres (2,797 mi) or 98% of it autonomously.[29] Navlab's record achievement stood unmatched for two decades until 2015 when Delphi improved it by piloting an Audi, augmented with Delphi technology, over 5,472 kilometres (3,400 mi) through 15 states while remaining in self-driving mode 99% of the time.[30] In 2015, the US states of Nevada, Florida, California, Virginia, and Michigan, together with Washington, D.C., allowed the testing of automated cars on public roads.[31]#015\u001b[0m\n",
      "\u001b[35m#015\u001b[0m\n",
      "\u001b[35mIn 2017, Audi stated that its latest A8 would be automated at speeds of up to 60 kilometres per hour (37 mph) using its \"Audi AI\". The driver would not have to do safety checks such as frequently gripping the steering wheel. The Audi A8 was claimed to be the first production car to reach level 3 automated driving, and Audi would be the first manufacturer to use laser scanners in addition to cameras and ultrasonic sensors for their system.[32]#015\u001b[0m\n",
      "\u001b[35m#015\u001b[0m\n",
      "\u001b[35mIn November 2017, Waymo announced that it had begun testing driverless cars without a safety driver in the driver position;[33] however, there was still an employee in the car.[34] In October 2018, Waymo announced that its test vehicles had traveled in automated mode for over 10,000,000 miles (16,000,000 km), increasing by about 1,000,000 miles (1,600,000 kilometres) per month.[35] In December 2018, Waymo was the first to commercialize a fully autonomous taxi service in the U.S.[36]#015\u001b[0m\n",
      "\u001b[35m#015\u001b[0m\n",
      "\u001b[35mDefinitions#015\u001b[0m\n",
      "\u001b[35mThere is some inconsistency in the terminology used in the self-driving car industry. Various organizations have proposed to define an accurate and consistent vocabulary.#015\u001b[0m\n",
      "\u001b[35m#015\u001b[0m\n",
      "\u001b[35mSuch confusion has been documented in SAE J3016 which states that \"Some vernacular usages associate autonomous specifically with full driving automation (level 5), while other usages apply it to all levels of driving automation, and some state legislation has defined it to correspond approximately to any ADS at or above level 3 (or to any vehicle equipped with such an ADS).\"#015\u001b[0m\n",
      "\u001b[35m#015\u001b[0m\n",
      "\u001b[35mWords definition and safety considerations#015\u001b[0m\n",
      "\u001b[35mModern vehicles provide partly automated features such as keeping the car within its lane, speed controls or emergency braking. Nonetheless, differences remain between a fully autonomous self-driving car on one hand and driver assistance technologies on the other hand. According to the BBC, confusion between those concepts leads to deaths.[37]#015\u001b[0m\n",
      "\u001b[35m#015\u001b[0m\n",
      "\u001b[35mAssociation of British Insurers considers the usage of the word autonomous in marketing for modern cars to be dangerous because car ads make motorists think 'autonomous' and 'autopilot' means a vehicle can drive itself when they still rely on the driver to ensure safety. Technology alone still is not able to drive the car.#015\u001b[0m\n",
      "\u001b[35m#015\u001b[0m\n",
      "\u001b[35mWhen some car makers suggest or claim vehicles are self-driving, when they are only partly automated, drivers risk becoming excessively confident, leading to crashes, while fully self-driving cars are still a long way off in the UK.[38]#015\u001b[0m\n",
      "\u001b[35m#015\u001b[0m\n",
      "\u001b[35mAutonomous vs. automated#015\u001b[0m\n",
      "\u001b[35mAutonomous means self-governing.[39] Many historical projects related to vehicle automation have been automated (made automatic) subject to a heavy reliance on artificial aids in their environment, such as magnetic strips. Autonomous control implies satisfactory performance under significant uncertainties in the environment and the ability to compensate for system failures without external intervention.[39]#015\u001b[0m\n",
      "\u001b[35m#015\u001b[0m\n",
      "\u001b[35mOne approach is to implement communication networks both in the immediate vicinity (for collision avoidance) and farther away (for congestion management). Such outside influences in the decision process reduce an individual vehicle's autonomy, while still not requiring human intervention.#015\u001b[0m\n",
      "\u001b[34m#015\u001b[0m\n",
      "\u001b[34mWood et al. (2012) wrote, \"This Article generally uses the term 'autonomous,' instead of the term 'automated.' \" The term \"autonomous\" was chosen \"because it is the term that is currently in more widespread use (and thus is more familiar to the general public). However, the latter term is arguably more accurate. 'Automated' connotes control or operation by a machine, while 'autonomous' connotes acting alone or independently. Most of the vehicle concepts (that we are currently aware of) have a person in the driver's seat, utilize a communication connection to the Cloud or other vehicles, and do not independently select either destinations or routes for reaching them. Thus, the term 'automated' would more accurately describe these vehicle concepts.\"[40] As of 2017, most commercial projects focused on automated vehicles that did not communicate with other vehicles or with an enveloping management regime. EuroNCAP defines autonomous in \"Autonomous Emergency Braking\" as: \"the system acts independently of the driver to avoid or mitigate the accident.\" which implies the autonomous system is not the driver.[41]#015\u001b[0m\n",
      "\u001b[34m#015\u001b[0m\n",
      "\u001b[34m#015\u001b[0m\n",
      "\u001b[34m#015\n",
      "\u001b[0m\n",
      "\u001b[34m----in bert text to json--------- [{'src': [['\\ufeffan', 'autonomous', 'car', ',', 'also', 'known', 'as', 'a', 'robotic', 'car', ',', 'self-driving', 'car', ',', 'or', 'driverless', 'car', ',', '[', '1', ']', '[', '2', ']', 'is', 'a', 'vehicle', 'that', 'is', 'capable', 'of', 'sensing', 'its', 'environment', 'and', 'moving', 'with', 'little', 'or', 'no', 'human', 'input', '.'], ['[', '3', ']', 'autonomous', 'cars', 'combine', 'a', 'variety', 'of', 'sensors', 'to', 'perceive', 'their', 'surroundings', ',', 'such', 'as', 'radar', ',', 'lidar', ',', 'sonar', ',', 'gps', ',', 'odometry', 'and', 'inertial', 'measurement', 'units', '.'], ['advanced', 'control', 'systems', 'interpret', 'sensory', 'information', 'to', 'identify', 'appropriate', 'navigation', 'paths', ',', 'as', 'well', 'as', 'obstacles', 'and', 'relevant', 'signage', '.'], ['[', '4', ']', '[', '5', ']', 'long', 'distance', 'trucks', 'are', 'seen', 'as', 'being', 'in', 'the', 'forefront', 'of', 'adopting', 'and', 'implementing', 'the', 'technology', '.'], ['[', '6', ']', 'history', 'main', 'article', ':', 'history', 'of', 'self-driving', 'cars', 'experiments', 'have', 'been', 'conducted', 'on', 'automated', 'driving', 'systems', '(', 'ads', ')', 'since', 'at', 'least', 'the', '1920s', ';', '[', '7', ']', 'trials', 'began', 'in', 'the', '1950s', '.'], ['the', 'first', 'semi-automated', 'car', 'was', 'developed', 'in', '1977', ',', 'by', 'japan', \"'s\", 'tsukuba', 'mechanical', 'engineering', 'laboratory', ',', 'which', 'required', 'specially', 'marked', 'streets', 'that', 'were', 'interpreted', 'by', 'two', 'cameras', 'on', 'the', 'vehicle', 'and', 'an', 'analog', 'computer', '.'], ['the', 'vehicle', 'reached', 'speeds', 'up', 'to', '30', 'kilometres', 'per', 'hour', '(', '19', 'mph', ')', 'with', 'the', 'support', 'of', 'an', 'elevated', 'rail', '.'], ['[', '8', ']', '[', '9', ']', 'the', 'first', 'truly', 'autonomous', 'cars', 'appeared', 'in', 'the', '1980s', ',', 'with', 'carnegie', 'mellon', 'university', \"'s\", 'navlab', '[', '10', ']', 'and', 'alv', '[', '11', ']', '[', '12', ']', 'projects', 'funded', 'by', 'darpa', 'starting', 'in', '1984', 'and', 'mercedes-benz', 'and', 'bundeswehr', 'university', 'munich', \"'s\", 'eureka', 'prometheus', 'project', '[', '13', ']', 'in', '1987', '.'], ['by', '1985', ',', 'the', 'alv', 'had', 'demonstrated', 'self-driving', 'speeds', 'on', 'two-lane', 'roads', 'of', '31', 'kilometres', 'per', 'hour', '(', '19', 'mph', ')', 'with', 'obstacle', 'avoidance', 'added', 'in', '1986', 'and', 'off-road', 'driving', 'in', 'day', 'and', 'nighttime', 'conditions', 'by', '1987', '.'], ['[', '14', ']', 'a', 'major', 'milestone', 'was', 'achieved', 'in', '1995', ',', 'with', 'cmu', \"'s\", 'navlab', '5', 'completing', 'the', 'first', 'autonomous', 'coast-to-coast', 'drive', 'of', 'the', 'united', 'states', '.'], ['of', 'the', '2,849', 'miles', 'between', 'pittsburgh', ',', 'pa', 'and', 'san', 'diego', ',', 'ca', ',', '2,797', 'miles', 'were', 'autonomous', '(', '98.2', '%', ')', ',', 'completed', 'with', 'an', 'average', 'speed', 'of', '63.8', 'miles', 'per', 'hour', '(', '102.3', 'km/h', ')', '.'], ['[', '15', ']', '[', '16', ']', '[', '17', ']', '[', '18', ']', 'from', 'the', '1960s', 'through', 'the', 'second', 'darpa', 'grand', 'challenge', 'in', '2005', ',', 'automated', 'vehicle', 'research', 'in', 'the', 'u.s.', 'was', 'primarily', 'funded', 'by', 'darpa', ',', 'the', 'us', 'army', ',', 'and', 'the', 'u.s.', 'navy', ',', 'yielding', 'incremental', 'advances', 'in', 'speeds', ',', 'driving', 'competence', 'in', 'more', 'complex', 'conditions', ',', 'controls', ',', 'and', 'sensor', 'systems', '.'], ['[', '19', ']', 'companies', 'and', 'research', 'organizations', 'have', 'developed', 'prototypes', '.'], ['[', '13', ']', '[', '20', ']', '[', '21', ']', '[', '22', ']', '[', '23', ']', '[', '24', ']', '[', '25', ']', '[', '26', ']', '[', '27', ']', 'the', 'u.s.', 'allocated', '$', '650', 'million', 'in', '1991', 'for', 'research', 'on', 'the', 'national', 'automated', 'highway', 'system', ',', 'which', 'demonstrated', 'automated', 'driving', 'through', 'a', 'combination', 'of', 'automation', ',', 'embedded', 'in', 'the', 'highway', 'with', 'automated', 'technology', 'in', 'vehicles', 'and', 'cooperative', 'networking', 'between', 'the', 'vehicles', 'and', 'with', 'the', 'highway', 'infrastructure', '.'], ['the', 'program', 'concluded', 'with', 'a', 'successful', 'demonstration', 'in', '1997', 'but', 'without', 'clear', 'direction', 'or', 'funding', 'to', 'implement', 'the', 'system', 'on', 'a', 'larger', 'scale', '.'], ['[', '28', ']', 'partly', 'funded', 'by', 'the', 'national', 'automated', 'highway', 'system', 'and', 'darpa', ',', 'the', 'carnegie', 'mellon', 'university', 'navlab', 'drove', '4,584', 'kilometres', '(', '2,848', 'mi', ')', 'across', 'america', 'in', '1995', ',', '4,501', 'kilometres', '(', '2,797', 'mi', ')', 'or', '98', '%', 'of', 'it', 'autonomously', '.'], ['[', '29', ']', 'navlab', \"'s\", 'record', 'achievement', 'stood', 'unmatched', 'for', 'two', 'decades', 'until', '2015', 'when', 'delphi', 'improved', 'it', 'by', 'piloting', 'an', 'audi', ',', 'augmented', 'with', 'delphi', 'technology', ',', 'over', '5,472', 'kilometres', '(', '3,400', 'mi', ')', 'through', '15', 'states', 'while', 'remaining', 'in', 'self-driving', 'mode', '99', '%', 'of', 'the', 'time', '.'], ['[', '30', ']', 'in', '2015', ',', 'the', 'us', 'states', 'of', 'nevada', ',', 'florida', ',', 'california', ',', 'virginia', ',', 'and', 'michigan', ',', 'together', 'with', 'washington', ',', 'd.c.', ',', 'allowed', 'the', 'testing', 'of', 'automated', 'cars', 'on', 'public', 'roads', '.'], ['[', '31', ']', 'in', '2017', ',', 'audi', 'stated', 'that', 'its', 'latest', 'a8', 'would', 'be', 'automated', 'at', 'speeds', 'of', 'up', 'to', '60', 'kilometres', 'per', 'hour', '(', '37', 'mph', ')', 'using', 'its', '``', 'audi', 'ai', \"''\", '.'], ['the', 'driver', 'would', 'not', 'have', 'to', 'do', 'safety', 'checks', 'such', 'as', 'frequently', 'gripping', 'the', 'steering', 'wheel', '.'], ['the', 'audi', 'a8', 'was', 'claimed', 'to', 'be', 'the', 'first', 'production', 'car', 'to', 'reach', 'level', '3', 'automated', 'driving', ',', 'and', 'audi', 'would', 'be', 'the', 'first', 'manufacturer', 'to', 'use', 'laser', 'scanners', 'in', 'addition', 'to', 'cameras', 'and', 'ultrasonic', 'sensors', 'for', 'their', 'system', '.'], ['[', '32', ']', 'in', 'november', '2017', ',', 'waymo', 'announced', 'that', 'it', 'had', 'begun', 'testing', 'driverless', 'cars', 'without', 'a', 'safety', 'driver', 'in', 'the', 'driver', 'position', ';', '[', '33', ']', 'however', ',', 'there', 'was', 'still', 'an', 'employee', 'in', 'the', 'car', '.'], ['[', '34', ']', 'in', 'october', '2018', ',', 'waymo', 'announced', 'that', 'its', 'test', 'vehicles', 'had', 'traveled', 'in', 'automated', 'mode', 'for', 'over', '10,000,000', 'miles', '(', '16,000,000', 'km', ')', ',', 'increasing', 'by', 'about', '1,000,000', 'miles', '(', '1,600,000', 'kilometres', ')', 'per', 'month', '.'], ['[', '35', ']', 'in', 'december', '2018', ',', 'waymo', 'was', 'the', 'first', 'to', 'commercialize', 'a', 'fully', 'autonomous', 'taxi', 'service', 'in', 'the', 'u.s.', '[', '36', ']', 'definitions', 'there', 'is', 'some', 'inconsistency', 'in', 'the', 'terminology', 'used', 'in', 'the', 'self-driving', 'car', 'industry', '.'], ['various', 'organizations', 'have', 'proposed', 'to', 'define', 'an', 'accurate', 'and', 'consistent', 'vocabulary', '.'], ['such', 'confusion', 'has', 'been', 'documented', 'in', 'sae', 'j3016', 'which', 'states', 'that', '``', 'some', 'vernacular', 'usages', 'associate', 'autonomous', 'specifically', 'with', 'full', 'driving', 'automation', '(', 'level', '5', ')', ',', 'while', 'other', 'usages', 'apply', 'it', 'to', 'all', 'levels', 'of', 'driving', 'automation', ',', 'and', 'some', 'state', 'legislation', 'has', 'defined', 'it', 'to', 'correspond', 'approximately', 'to', 'any', 'ads', 'at', 'or', 'above', 'level', '3', '(', 'or', 'to', 'any', 'vehicle', 'equipped', 'with', 'such', 'an', 'ads', ')', '.', \"''\"], ['words', 'definition', 'and', 'safety', 'considerations', 'modern', 'vehicles', 'provide', 'partly', 'automated', 'features', 'such', 'as', 'keeping', 'the', 'car', 'within', 'its', 'lane', ',', 'speed', 'controls', 'or', 'emergency', 'braking', '.'], ['nonetheless', ',', 'differences', 'remain', 'between', 'a', 'fully', 'autonomous', 'self-driving', 'car', 'on', 'one', 'hand', 'and', 'driver', 'assistance', 'technologies', 'on', 'the', 'other', 'hand', '.'], ['according', 'to', 'the', 'bbc', ',', 'confusion', 'between', 'those', 'concepts', 'leads', 'to', 'deaths', '.'], ['[', '37', ']', 'association', 'of', 'british', 'insurers', 'considers', 'the', 'usage', 'of', 'the', 'word', 'autonomous', 'in', 'marketing', 'for', 'modern', 'cars', 'to', 'be', 'dangerous', 'because', 'car', 'ads', 'make', 'motorists', 'think', \"'autonomous\", \"'\", 'and', \"'autopilot\", \"'\", 'means', 'a', 'vehicle', 'can', 'drive', 'itself', 'when', 'they', 'still', 'rely', 'on', 'the', 'driver', 'to', 'ensure', 'safety', '.'], ['technology', 'alone', 'still', 'is', 'not', 'able', 'to', 'drive', 'the', 'car', '.'], ['when', 'some', 'car', 'makers', 'suggest', 'or', 'claim', 'vehicles', 'are', 'self-driving', ',', 'when', 'they', 'are', 'only', 'partly', 'automated', ',', 'drivers', 'risk', 'becoming', 'excessively', 'confident', ',', 'leading', 'to', 'crashes', ',', 'while', 'fully', 'self-driving', 'cars', 'are', 'still', 'a', 'long', 'way', 'off', 'in', 'the', 'uk', '.'], ['[', '38', ']', 'autonomous', 'vs.', 'automated', 'autonomous', 'means', 'self-governing', '.'], ['[', '39', ']', 'many', 'historical', 'projects', 'related', 'to', 'vehicle', 'automation', 'have', 'been', 'automated', '(', 'made', 'automatic', ')', 'subject', 'to', 'a', 'heavy', 'reliance', 'on', 'artificial', 'aids', 'in', 'their', 'environment', ',', 'such', 'as', 'magnetic', 'strips', '.'], ['autonomous', 'control', 'implies', 'satisfactory', 'performance', 'under', 'significant', 'uncertainties', 'in', 'the', 'environment', 'and', 'the', 'ability', 'to', 'compensate', 'for', 'system', 'failures', 'without', 'external', 'intervention', '.'], ['[', '39', ']', 'one', 'approach', 'is', 'to', 'implement', 'communication', 'networks', 'both', 'in', 'the', 'immediate', 'vicinity', '(', 'for', 'collision', 'avoidance', ')', 'and', 'farther', 'away', '(', 'for', 'congestion', 'management', ')', '.'], ['such', 'outside', 'influences', 'in', 'the', 'decision', 'process', 'reduce', 'an', 'individual', 'vehicle', \"'s\", 'autonomy', ',', 'while', 'still', 'not', 'requiring', 'human', 'intervention', '.'], ['wood', 'et', 'al', '.'], ['(', '2012', ')', 'wrote', ',', '``', 'this', 'article', 'generally', 'uses', 'the', 'term', \"'autonomous\", ',', \"'\", 'instead', 'of', 'the', 'term', \"'automated\", '.', \"'\"], ['``', 'the', 'term', '``', 'autonomous', \"''\", 'was', 'chosen', '``', 'because', 'it', 'is', 'the', 'term', 'that', 'is', 'currently', 'in', 'more', 'widespread', 'use', '(', 'and', 'thus', 'is', 'more', 'familiar', 'to', 'the', 'general', 'public', ')', '.'], ['however', ',', 'the', 'latter', 'term', 'is', 'arguably', 'more', 'accurate', '.'], [\"'automated\", \"'\", 'connotes', 'control', 'or', 'operation', 'by', 'a', 'machine', ',', 'while', \"'autonomous\", \"'\", 'connotes', 'acting', 'alone', 'or', 'independently', '.'], ['most', 'of', 'the', 'vehicle', 'concepts', '(', 'that', 'we', 'are', 'currently', 'aware', 'of', ')', 'have', 'a', 'person', 'in', 'the', 'driver', \"'s\", 'seat', ',', 'utilize', 'a', 'communication', 'connection', 'to', 'the', 'cloud', 'or', 'other', 'vehicles', ',', 'and', 'do', 'not', 'independently', 'select', 'either', 'destinations', 'or', 'routes', 'for', 'reaching', 'them', '.'], ['thus', ',', 'the', 'term', \"'automated\", \"'\", 'would', 'more', 'accurately', 'describe', 'these', 'vehicle', 'concepts', '.'], ['``', '[', '40', ']', 'as', 'of', '2017', ',', 'most', 'commercial', 'projects', 'focused', 'on', 'automated', 'vehicles', 'that', 'did', 'not', 'communicate', 'with', 'other', 'vehicles', 'or', 'with', 'an', 'enveloping', 'management', 'regime', '.'], ['euroncap', 'defines', 'autonomous', 'in', '``', 'autonomous', 'emergency', 'braking', \"''\", 'as', ':', '``', 'the', 'system', 'acts', 'independently', 'of', 'the', 'driver', 'to', 'avoid', 'or', 'mitigate', 'the', 'accident', '.', \"''\"], ['which', 'implies', 'the', 'autonomous', 'system', 'is', 'not', 'the', 'driver', '.'], ['[', '41', ']']], 'tgt': [['no', 'summary', 'found']]}]\u001b[0m\n",
      "\u001b[34m[]\u001b[0m\n",
      "\u001b[34m[('../json_data/cnndm.valid.0.json', Namespace(dataset='', log_file='../logs/preprocess.log', lower=True, map_path='../data/', max_nsents=100, max_src_ntokens=200, min_nsents=3, min_src_ntokens=5, mode='format_to_bert', n_cpus=4, oracle_mode='greedy', raw_path='../json_data', save_path='../json_data', shard_size=2000), '../json_data/cnndm.valid.0.bert.pt')]\u001b[0m\n",
      "\u001b[34m[2020-04-11 17:51:29,814 INFO] loading vocabulary file ../json_data/vocab.txt\u001b[0m\n",
      "\u001b[34m[2020-04-11 17:51:29,841 INFO] Processing ../json_data/cnndm.valid.0.json\u001b[0m\n",
      "\u001b[34m[2020-04-11 17:51:29,863 INFO] Saving to ../json_data/cnndm.valid.0.bert.pt\u001b[0m\n",
      "\u001b[34m[('../json_data/cnndm.test.0.json', Namespace(dataset='', log_file='../logs/preprocess.log', lower=True, map_path='../data/', max_nsents=100, max_src_ntokens=200, min_nsents=3, min_src_ntokens=5, mode='format_to_bert', n_cpus=4, oracle_mode='greedy', raw_path='../json_data', save_path='../json_data', shard_size=2000), '../json_data/cnndm.test.0.bert.pt')]\u001b[0m\n",
      "\u001b[34m[2020-04-11 17:51:29,924 INFO] loading vocabulary file ../json_data/vocab.txt\u001b[0m\n",
      "\u001b[34m[2020-04-11 17:51:29,950 INFO] Processing ../json_data/cnndm.test.0.json\u001b[0m\n",
      "\u001b[34m[2020-04-11 17:51:29,973 INFO] Saving to ../json_data/cnndm.test.0.bert.pt\u001b[0m\n",
      "\u001b[34mlook at me: ../json_data/cnndm test\u001b[0m\n",
      "\u001b[34mfiles found :  ['../json_data/cnndm.test.0.bert.pt']\u001b[0m\n",
      "\u001b[35m#015\u001b[0m\n",
      "\u001b[35mWood et al. (2012) wrote, \"This Article generally uses the term 'autonomous,' instead of the term 'automated.' \" The term \"autonomous\" was chosen \"because it is the term that is currently in more widespread use (and thus is more familiar to the general public). However, the latter term is arguably more accurate. 'Automated' connotes control or operation by a machine, while 'autonomous' connotes acting alone or independently. Most of the vehicle concepts (that we are currently aware of) have a person in the driver's seat, utilize a communication connection to the Cloud or other vehicles, and do not independently select either destinations or routes for reaching them. Thus, the term 'automated' would more accurately describe these vehicle concepts.\"[40] As of 2017, most commercial projects focused on automated vehicles that did not communicate with other vehicles or with an enveloping management regime. EuroNCAP defines autonomous in \"Autonomous Emergency Braking\" as: \"the system acts independently of the driver to avoid or mitigate the accident.\" which implies the autonomous system is not the driver.[41]#015\u001b[0m\n",
      "\u001b[35m#015\u001b[0m\n",
      "\u001b[35m#015\u001b[0m\n",
      "\u001b[35m#015\n",
      "\u001b[0m\n",
      "\u001b[35m----in bert text to json--------- [{'src': [['\\ufeffan', 'autonomous', 'car', ',', 'also', 'known', 'as', 'a', 'robotic', 'car', ',', 'self-driving', 'car', ',', 'or', 'driverless', 'car', ',', '[', '1', ']', '[', '2', ']', 'is', 'a', 'vehicle', 'that', 'is', 'capable', 'of', 'sensing', 'its', 'environment', 'and', 'moving', 'with', 'little', 'or', 'no', 'human', 'input', '.'], ['[', '3', ']', 'autonomous', 'cars', 'combine', 'a', 'variety', 'of', 'sensors', 'to', 'perceive', 'their', 'surroundings', ',', 'such', 'as', 'radar', ',', 'lidar', ',', 'sonar', ',', 'gps', ',', 'odometry', 'and', 'inertial', 'measurement', 'units', '.'], ['advanced', 'control', 'systems', 'interpret', 'sensory', 'information', 'to', 'identify', 'appropriate', 'navigation', 'paths', ',', 'as', 'well', 'as', 'obstacles', 'and', 'relevant', 'signage', '.'], ['[', '4', ']', '[', '5', ']', 'long', 'distance', 'trucks', 'are', 'seen', 'as', 'being', 'in', 'the', 'forefront', 'of', 'adopting', 'and', 'implementing', 'the', 'technology', '.'], ['[', '6', ']', 'history', 'main', 'article', ':', 'history', 'of', 'self-driving', 'cars', 'experiments', 'have', 'been', 'conducted', 'on', 'automated', 'driving', 'systems', '(', 'ads', ')', 'since', 'at', 'least', 'the', '1920s', ';', '[', '7', ']', 'trials', 'began', 'in', 'the', '1950s', '.'], ['the', 'first', 'semi-automated', 'car', 'was', 'developed', 'in', '1977', ',', 'by', 'japan', \"'s\", 'tsukuba', 'mechanical', 'engineering', 'laboratory', ',', 'which', 'required', 'specially', 'marked', 'streets', 'that', 'were', 'interpreted', 'by', 'two', 'cameras', 'on', 'the', 'vehicle', 'and', 'an', 'analog', 'computer', '.'], ['the', 'vehicle', 'reached', 'speeds', 'up', 'to', '30', 'kilometres', 'per', 'hour', '(', '19', 'mph', ')', 'with', 'the', 'support', 'of', 'an', 'elevated', 'rail', '.'], ['[', '8', ']', '[', '9', ']', 'the', 'first', 'truly', 'autonomous', 'cars', 'appeared', 'in', 'the', '1980s', ',', 'with', 'carnegie', 'mellon', 'university', \"'s\", 'navlab', '[', '10', ']', 'and', 'alv', '[', '11', ']', '[', '12', ']', 'projects', 'funded', 'by', 'darpa', 'starting', 'in', '1984', 'and', 'mercedes-benz', 'and', 'bundeswehr', 'university', 'munich', \"'s\", 'eureka', 'prometheus', 'project', '[', '13', ']', 'in', '1987', '.'], ['by', '1985', ',', 'the', 'alv', 'had', 'demonstrated', 'self-driving', 'speeds', 'on', 'two-lane', 'roads', 'of', '31', 'kilometres', 'per', 'hour', '(', '19', 'mph', ')', 'with', 'obstacle', 'avoidance', 'added', 'in', '1986', 'and', 'off-road', 'driving', 'in', 'day', 'and', 'nighttime', 'conditions', 'by', '1987', '.'], ['[', '14', ']', 'a', 'major', 'milestone', 'was', 'achieved', 'in', '1995', ',', 'with', 'cmu', \"'s\", 'navlab', '5', 'completing', 'the', 'first', 'autonomous', 'coast-to-coast', 'drive', 'of', 'the', 'united', 'states', '.'], ['of', 'the', '2,849', 'miles', 'between', 'pittsburgh', ',', 'pa', 'and', 'san', 'diego', ',', 'ca', ',', '2,797', 'miles', 'were', 'autonomous', '(', '98.2', '%', ')', ',', 'completed', 'with', 'an', 'average', 'speed', 'of', '63.8', 'miles', 'per', 'hour', '(', '102.3', 'km/h', ')', '.'], ['[', '15', ']', '[', '16', ']', '[', '17', ']', '[', '18', ']', 'from', 'the', '1960s', 'through', 'the', 'second', 'darpa', 'grand', 'challenge', 'in', '2005', ',', 'automated', 'vehicle', 'research', 'in', 'the', 'u.s.', 'was', 'primarily', 'funded', 'by', 'darpa', ',', 'the', 'us', 'army', ',', 'and', 'the', 'u.s.', 'navy', ',', 'yielding', 'incremental', 'advances', 'in', 'speeds', ',', 'driving', 'competence', 'in', 'more', 'complex', 'conditions', ',', 'controls', ',', 'and', 'sensor', 'systems', '.'], ['[', '19', ']', 'companies', 'and', 'research', 'organizations', 'have', 'developed', 'prototypes', '.'], ['[', '13', ']', '[', '20', ']', '[', '21', ']', '[', '22', ']', '[', '23', ']', '[', '24', ']', '[', '25', ']', '[', '26', ']', '[', '27', ']', 'the', 'u.s.', 'allocated', '$', '650', 'million', 'in', '1991', 'for', 'research', 'on', 'the', 'national', 'automated', 'highway', 'system', ',', 'which', 'demonstrated', 'automated', 'driving', 'through', 'a', 'combination', 'of', 'automation', ',', 'embedded', 'in', 'the', 'highway', 'with', 'automated', 'technology', 'in', 'vehicles', 'and', 'cooperative', 'networking', 'between', 'the', 'vehicles', 'and', 'with', 'the', 'highway', 'infrastructure', '.'], ['the', 'program', 'concluded', 'with', 'a', 'successful', 'demonstration', 'in', '1997', 'but', 'without', 'clear', 'direction', 'or', 'funding', 'to', 'implement', 'the', 'system', 'on', 'a', 'larger', 'scale', '.'], ['[', '28', ']', 'partly', 'funded', 'by', 'the', 'national', 'automated', 'highway', 'system', 'and', 'darpa', ',', 'the', 'carnegie', 'mellon', 'university', 'navlab', 'drove', '4,584', 'kilometres', '(', '2,848', 'mi', ')', 'across', 'america', 'in', '1995', ',', '4,501', 'kilometres', '(', '2,797', 'mi', ')', 'or', '98', '%', 'of', 'it', 'autonomously', '.'], ['[', '29', ']', 'navlab', \"'s\", 'record', 'achievement', 'stood', 'unmatched', 'for', 'two', 'decades', 'until', '2015', 'when', 'delphi', 'improved', 'it', 'by', 'piloting', 'an', 'audi', ',', 'augmented', 'with', 'delphi', 'technology', ',', 'over', '5,472', 'kilometres', '(', '3,400', 'mi', ')', 'through', '15', 'states', 'while', 'remaining', 'in', 'self-driving', 'mode', '99', '%', 'of', 'the', 'time', '.'], ['[', '30', ']', 'in', '2015', ',', 'the', 'us', 'states', 'of', 'nevada', ',', 'florida', ',', 'california', ',', 'virginia', ',', 'and', 'michigan', ',', 'together', 'with', 'washington', ',', 'd.c.', ',', 'allowed', 'the', 'testing', 'of', 'automated', 'cars', 'on', 'public', 'roads', '.'], ['[', '31', ']', 'in', '2017', ',', 'audi', 'stated', 'that', 'its', 'latest', 'a8', 'would', 'be', 'automated', 'at', 'speeds', 'of', 'up', 'to', '60', 'kilometres', 'per', 'hour', '(', '37', 'mph', ')', 'using', 'its', '``', 'audi', 'ai', \"''\", '.'], ['the', 'driver', 'would', 'not', 'have', 'to', 'do', 'safety', 'checks', 'such', 'as', 'frequently', 'gripping', 'the', 'steering', 'wheel', '.'], ['the', 'audi', 'a8', 'was', 'claimed', 'to', 'be', 'the', 'first', 'production', 'car', 'to', 'reach', 'level', '3', 'automated', 'driving', ',', 'and', 'audi', 'would', 'be', 'the', 'first', 'manufacturer', 'to', 'use', 'laser', 'scanners', 'in', 'addition', 'to', 'cameras', 'and', 'ultrasonic', 'sensors', 'for', 'their', 'system', '.'], ['[', '32', ']', 'in', 'november', '2017', ',', 'waymo', 'announced', 'that', 'it', 'had', 'begun', 'testing', 'driverless', 'cars', 'without', 'a', 'safety', 'driver', 'in', 'the', 'driver', 'position', ';', '[', '33', ']', 'however', ',', 'there', 'was', 'still', 'an', 'employee', 'in', 'the', 'car', '.'], ['[', '34', ']', 'in', 'october', '2018', ',', 'waymo', 'announced', 'that', 'its', 'test', 'vehicles', 'had', 'traveled', 'in', 'automated', 'mode', 'for', 'over', '10,000,000', 'miles', '(', '16,000,000', 'km', ')', ',', 'increasing', 'by', 'about', '1,000,000', 'miles', '(', '1,600,000', 'kilometres', ')', 'per', 'month', '.'], ['[', '35', ']', 'in', 'december', '2018', ',', 'waymo', 'was', 'the', 'first', 'to', 'commercialize', 'a', 'fully', 'autonomous', 'taxi', 'service', 'in', 'the', 'u.s.', '[', '36', ']', 'definitions', 'there', 'is', 'some', 'inconsistency', 'in', 'the', 'terminology', 'used', 'in', 'the', 'self-driving', 'car', 'industry', '.'], ['various', 'organizations', 'have', 'proposed', 'to', 'define', 'an', 'accurate', 'and', 'consistent', 'vocabulary', '.'], ['such', 'confusion', 'has', 'been', 'documented', 'in', 'sae', 'j3016', 'which', 'states', 'that', '``', 'some', 'vernacular', 'usages', 'associate', 'autonomous', 'specifically', 'with', 'full', 'driving', 'automation', '(', 'level', '5', ')', ',', 'while', 'other', 'usages', 'apply', 'it', 'to', 'all', 'levels', 'of', 'driving', 'automation', ',', 'and', 'some', 'state', 'legislation', 'has', 'defined', 'it', 'to', 'correspond', 'approximately', 'to', 'any', 'ads', 'at', 'or', 'above', 'level', '3', '(', 'or', 'to', 'any', 'vehicle', 'equipped', 'with', 'such', 'an', 'ads', ')', '.', \"''\"], ['words', 'definition', 'and', 'safety', 'considerations', 'modern', 'vehicles', 'provide', 'partly', 'automated', 'features', 'such', 'as', 'keeping', 'the', 'car', 'within', 'its', 'lane', ',', 'speed', 'controls', 'or', 'emergency', 'braking', '.'], ['nonetheless', ',', 'differences', 'remain', 'between', 'a', 'fully', 'autonomous', 'self-driving', 'car', 'on', 'one', 'hand', 'and', 'driver', 'assistance', 'technologies', 'on', 'the', 'other', 'hand', '.'], ['according', 'to', 'the', 'bbc', ',', 'confusion', 'between', 'those', 'concepts', 'leads', 'to', 'deaths', '.'], ['[', '37', ']', 'association', 'of', 'british', 'insurers', 'considers', 'the', 'usage', 'of', 'the', 'word', 'autonomous', 'in', 'marketing', 'for', 'modern', 'cars', 'to', 'be', 'dangerous', 'because', 'car', 'ads', 'make', 'motorists', 'think', \"'autonomous\", \"'\", 'and', \"'autopilot\", \"'\", 'means', 'a', 'vehicle', 'can', 'drive', 'itself', 'when', 'they', 'still', 'rely', 'on', 'the', 'driver', 'to', 'ensure', 'safety', '.'], ['technology', 'alone', 'still', 'is', 'not', 'able', 'to', 'drive', 'the', 'car', '.'], ['when', 'some', 'car', 'makers', 'suggest', 'or', 'claim', 'vehicles', 'are', 'self-driving', ',', 'when', 'they', 'are', 'only', 'partly', 'automated', ',', 'drivers', 'risk', 'becoming', 'excessively', 'confident', ',', 'leading', 'to', 'crashes', ',', 'while', 'fully', 'self-driving', 'cars', 'are', 'still', 'a', 'long', 'way', 'off', 'in', 'the', 'uk', '.'], ['[', '38', ']', 'autonomous', 'vs.', 'automated', 'autonomous', 'means', 'self-governing', '.'], ['[', '39', ']', 'many', 'historical', 'projects', 'related', 'to', 'vehicle', 'automation', 'have', 'been', 'automated', '(', 'made', 'automatic', ')', 'subject', 'to', 'a', 'heavy', 'reliance', 'on', 'artificial', 'aids', 'in', 'their', 'environment', ',', 'such', 'as', 'magnetic', 'strips', '.'], ['autonomous', 'control', 'implies', 'satisfactory', 'performance', 'under', 'significant', 'uncertainties', 'in', 'the', 'environment', 'and', 'the', 'ability', 'to', 'compensate', 'for', 'system', 'failures', 'without', 'external', 'intervention', '.'], ['[', '39', ']', 'one', 'approach', 'is', 'to', 'implement', 'communication', 'networks', 'both', 'in', 'the', 'immediate', 'vicinity', '(', 'for', 'collision', 'avoidance', ')', 'and', 'farther', 'away', '(', 'for', 'congestion', 'management', ')', '.'], ['such', 'outside', 'influences', 'in', 'the', 'decision', 'process', 'reduce', 'an', 'individual', 'vehicle', \"'s\", 'autonomy', ',', 'while', 'still', 'not', 'requiring', 'human', 'intervention', '.'], ['wood', 'et', 'al', '.'], ['(', '2012', ')', 'wrote', ',', '``', 'this', 'article', 'generally', 'uses', 'the', 'term', \"'autonomous\", ',', \"'\", 'instead', 'of', 'the', 'term', \"'automated\", '.', \"'\"], ['``', 'the', 'term', '``', 'autonomous', \"''\", 'was', 'chosen', '``', 'because', 'it', 'is', 'the', 'term', 'that', 'is', 'currently', 'in', 'more', 'widespread', 'use', '(', 'and', 'thus', 'is', 'more', 'familiar', 'to', 'the', 'general', 'public', ')', '.'], ['however', ',', 'the', 'latter', 'term', 'is', 'arguably', 'more', 'accurate', '.'], [\"'automated\", \"'\", 'connotes', 'control', 'or', 'operation', 'by', 'a', 'machine', ',', 'while', \"'autonomous\", \"'\", 'connotes', 'acting', 'alone', 'or', 'independently', '.'], ['most', 'of', 'the', 'vehicle', 'concepts', '(', 'that', 'we', 'are', 'currently', 'aware', 'of', ')', 'have', 'a', 'person', 'in', 'the', 'driver', \"'s\", 'seat', ',', 'utilize', 'a', 'communication', 'connection', 'to', 'the', 'cloud', 'or', 'other', 'vehicles', ',', 'and', 'do', 'not', 'independently', 'select', 'either', 'destinations', 'or', 'routes', 'for', 'reaching', 'them', '.'], ['thus', ',', 'the', 'term', \"'automated\", \"'\", 'would', 'more', 'accurately', 'describe', 'these', 'vehicle', 'concepts', '.'], ['``', '[', '40', ']', 'as', 'of', '2017', ',', 'most', 'commercial', 'projects', 'focused', 'on', 'automated', 'vehicles', 'that', 'did', 'not', 'communicate', 'with', 'other', 'vehicles', 'or', 'with', 'an', 'enveloping', 'management', 'regime', '.'], ['euroncap', 'defines', 'autonomous', 'in', '``', 'autonomous', 'emergency', 'braking', \"''\", 'as', ':', '``', 'the', 'system', 'acts', 'independently', 'of', 'the', 'driver', 'to', 'avoid', 'or', 'mitigate', 'the', 'accident', '.', \"''\"], ['which', 'implies', 'the', 'autonomous', 'system', 'is', 'not', 'the', 'driver', '.'], ['[', '41', ']']], 'tgt': [['no', 'summary', 'found']]}]\u001b[0m\n",
      "\u001b[35m[]\u001b[0m\n",
      "\u001b[35m[('../json_data/cnndm.valid.0.json', Namespace(dataset='', log_file='../logs/preprocess.log', lower=True, map_path='../data/', max_nsents=100, max_src_ntokens=200, min_nsents=3, min_src_ntokens=5, mode='format_to_bert', n_cpus=4, oracle_mode='greedy', raw_path='../json_data', save_path='../json_data', shard_size=2000), '../json_data/cnndm.valid.0.bert.pt')]\u001b[0m\n",
      "\u001b[35m[2020-04-11 17:51:29,814 INFO] loading vocabulary file ../json_data/vocab.txt\u001b[0m\n",
      "\u001b[35m[2020-04-11 17:51:29,841 INFO] Processing ../json_data/cnndm.valid.0.json\u001b[0m\n",
      "\u001b[35m[2020-04-11 17:51:29,863 INFO] Saving to ../json_data/cnndm.valid.0.bert.pt\u001b[0m\n",
      "\u001b[35m[('../json_data/cnndm.test.0.json', Namespace(dataset='', log_file='../logs/preprocess.log', lower=True, map_path='../data/', max_nsents=100, max_src_ntokens=200, min_nsents=3, min_src_ntokens=5, mode='format_to_bert', n_cpus=4, oracle_mode='greedy', raw_path='../json_data', save_path='../json_data', shard_size=2000), '../json_data/cnndm.test.0.bert.pt')]\u001b[0m\n",
      "\u001b[35m[2020-04-11 17:51:29,924 INFO] loading vocabulary file ../json_data/vocab.txt\u001b[0m\n",
      "\u001b[35m[2020-04-11 17:51:29,950 INFO] Processing ../json_data/cnndm.test.0.json\u001b[0m\n",
      "\u001b[35m[2020-04-11 17:51:29,973 INFO] Saving to ../json_data/cnndm.test.0.bert.pt\u001b[0m\n",
      "\u001b[35mlook at me: ../json_data/cnndm test\u001b[0m\n",
      "\u001b[35mfiles found :  ['../json_data/cnndm.test.0.bert.pt']\u001b[0m\n",
      "\u001b[34mgpu_rank 0\u001b[0m\n",
      "\u001b[34m------------inside train.py test_iter---------------- <models.data_loader.Dataloader object at 0x7f4704413748>\u001b[0m\n",
      "\u001b[35mgpu_rank 0\u001b[0m\n",
      "\u001b[35m------------inside train.py test_iter---------------- <models.data_loader.Dataloader object at 0x7f4704413748>\u001b[0m\n",
      "\u001b[34m---------------sent_scores-------------- tensor([[0.2023, 0.2931, 0.1747, 0.0914, 0.1021, 0.0512, 0.1018, 0.0882, 0.0588,\n",
      "         0.0841, 0.0620, 0.0274]])\u001b[0m\n",
      "\u001b[34m---------------mask--------------------- tensor([[1, 1, 1, 1, 1, 1, 1, 1, 1, 1, 1, 1]], dtype=torch.uint8)\u001b[0m\n",
      "\u001b[34m-----------------inside train.py pred------------------ ['[ 3 ] autonomous cars combine a variety of sensors to perceive their surroundings , such as radar , lidar , sonar , gps , odometry and inertial measurement units .<q>\\ufeffan autonomous car , also known as a robotic car , self-driving car , or driverless car , [ 1 ] [ 2 ] is a vehicle that is capable of sensing its environment and moving with little or no human input .<q>advanced control systems interpret sensory information to identify appropriate navigation paths , as well as obstacles and relevant signage .']\u001b[0m\n",
      "\u001b[34m-----------------inside train.py gold------------------ ['no summary found']\u001b[0m\n",
      "\u001b[34m<_io.TextIOWrapper name='../json_data/results/_step50000.candidate' mode='w' encoding='ANSI_X3.4-1968'>\u001b[0m\n",
      "\u001b[34m-----combined----- [ 3 ] autonomous cars combine a variety of sensors to perceive their surroundings , such as radar , lidar , sonar , gps , odometry and inertial measurement units .<q>﻿an autonomous car , also known as a robotic car , self-driving car , or driverless car , [ 1 ] [ 2 ] is a vehicle that is capable of sensing its environment and moving with little or no human input .<q>advanced control systems interpret sensory information to identify appropriate navigation paths , as well as obstacles and relevant signage .\n",
      "\u001b[0m\n",
      "\u001b[34m---------------intermediate---------- [ 3 ] autonomous cars combine a variety of sensors to perceive their surroundings , such as radar , lidar , sonar , gps , odometry and inertial measurement units .<q>﻿an autonomous car , also known as a robotic car , self-driving car , or driverless car , [ 1 ] [ 2 ] is a vehicle that is capable of sensing its environment and moving with little or no human input .<q>advanced control systems interpret sensory information to identify appropriate navigation paths , as well as obstacles and relevant signage .\n",
      "\u001b[0m\n",
      "\u001b[34m------------in pretty summary----------------- [ 3 ] autonomous cars combine a variety of sensors to perceive their surroundings , such as radar , lidar , sonar , gps , odometry and inertial measurement units .<q>﻿an autonomous car , also known as a robotic car , self-driving car , or driverless car , [ 1 ] [ 2 ] is a vehicle that is capable of sensing its environment and moving with little or no human input .<q>advanced control systems interpret sensory information to identify appropriate navigation paths , as well as obstacles and relevant signage .\n",
      "\u001b[0m\n",
      "\u001b[34m------------------result------------- Autonomous cars combine a variety of sensors to perceive their surroundings , such as radar , lidar , sonar , gps , odometry and inertial measurement units. ﻿an autonomous car , also known as a robotic car , self-driving car , or driverless car ,   is a vehicle that is capable of sensing its environment and moving with little or no human input. Advanced control systems interpret sensory information to identify appropriate navigation paths , as well as obstacles and relevant signage.\u001b[0m\n",
      "\u001b[34m169.254.255.130 - - [11/Apr/2020 17:51:31] \"#033[37mPOST /invocations HTTP/1.1#033[0m\" 200 -\u001b[0m\n",
      "\u001b[35m---------------sent_scores-------------- tensor([[0.2023, 0.2931, 0.1747, 0.0914, 0.1021, 0.0512, 0.1018, 0.0882, 0.0588,\n",
      "         0.0841, 0.0620, 0.0274]])\u001b[0m\n",
      "\u001b[35m---------------mask--------------------- tensor([[1, 1, 1, 1, 1, 1, 1, 1, 1, 1, 1, 1]], dtype=torch.uint8)\u001b[0m\n",
      "\u001b[35m-----------------inside train.py pred------------------ ['[ 3 ] autonomous cars combine a variety of sensors to perceive their surroundings , such as radar , lidar , sonar , gps , odometry and inertial measurement units .<q>\\ufeffan autonomous car , also known as a robotic car , self-driving car , or driverless car , [ 1 ] [ 2 ] is a vehicle that is capable of sensing its environment and moving with little or no human input .<q>advanced control systems interpret sensory information to identify appropriate navigation paths , as well as obstacles and relevant signage .']\u001b[0m\n",
      "\u001b[35m-----------------inside train.py gold------------------ ['no summary found']\u001b[0m\n",
      "\u001b[35m<_io.TextIOWrapper name='../json_data/results/_step50000.candidate' mode='w' encoding='ANSI_X3.4-1968'>\u001b[0m\n",
      "\u001b[35m-----combined----- [ 3 ] autonomous cars combine a variety of sensors to perceive their surroundings , such as radar , lidar , sonar , gps , odometry and inertial measurement units .<q>﻿an autonomous car , also known as a robotic car , self-driving car , or driverless car , [ 1 ] [ 2 ] is a vehicle that is capable of sensing its environment and moving with little or no human input .<q>advanced control systems interpret sensory information to identify appropriate navigation paths , as well as obstacles and relevant signage .\n",
      "\u001b[0m\n",
      "\u001b[35m---------------intermediate---------- [ 3 ] autonomous cars combine a variety of sensors to perceive their surroundings , such as radar , lidar , sonar , gps , odometry and inertial measurement units .<q>﻿an autonomous car , also known as a robotic car , self-driving car , or driverless car , [ 1 ] [ 2 ] is a vehicle that is capable of sensing its environment and moving with little or no human input .<q>advanced control systems interpret sensory information to identify appropriate navigation paths , as well as obstacles and relevant signage .\n",
      "\u001b[0m\n",
      "\u001b[35m------------in pretty summary----------------- [ 3 ] autonomous cars combine a variety of sensors to perceive their surroundings , such as radar , lidar , sonar , gps , odometry and inertial measurement units .<q>﻿an autonomous car , also known as a robotic car , self-driving car , or driverless car , [ 1 ] [ 2 ] is a vehicle that is capable of sensing its environment and moving with little or no human input .<q>advanced control systems interpret sensory information to identify appropriate navigation paths , as well as obstacles and relevant signage .\n",
      "\u001b[0m\n",
      "\u001b[35m------------------result------------- Autonomous cars combine a variety of sensors to perceive their surroundings , such as radar , lidar , sonar , gps , odometry and inertial measurement units. ﻿an autonomous car , also known as a robotic car , self-driving car , or driverless car ,   is a vehicle that is capable of sensing its environment and moving with little or no human input. Advanced control systems interpret sensory information to identify appropriate navigation paths , as well as obstacles and relevant signage.\u001b[0m\n",
      "\u001b[35m169.254.255.130 - - [11/Apr/2020 17:51:31] \"#033[37mPOST /invocations HTTP/1.1#033[0m\" 200 -\u001b[0m\n",
      "Batch Transform complete\n"
     ]
    }
   ],
   "source": [
    "import json \n",
    "import uuid\n",
    "\n",
    "\n",
    "transformer = model.transformer(1, 'ml.m5.xlarge')\n",
    "transformer.transform(sample_txt, content_type='text/plain')\n",
    "transformer.wait()\n",
    "#transformer.output_path\n",
    "print(\"Batch Transform complete\")\n"
   ]
  },
  {
   "cell_type": "markdown",
   "metadata": {},
   "source": [
    "## Output from Batch Transform\n",
    "\n",
    "Note: Ensure that the following package is installed on the local system : boto3"
   ]
  },
  {
   "cell_type": "code",
   "execution_count": 14,
   "metadata": {},
   "outputs": [
    {
     "name": "stdout",
     "output_type": "stream",
     "text": [
      "s3://sagemaker-us-east-2-786796469737/marketplace-text-summarizer-11-4-2020-0-2020-04-11-17-47-35-070\n",
      "Output file loaded from bucket\n"
     ]
    }
   ],
   "source": [
    "print(transformer.output_path)\n",
    "bucketFolder = transformer.output_path.rsplit('/')[3]\n",
    "#print(s3bucket,s3prefix)\n",
    "s3_conn = boto3.client(\"s3\")\n",
    "bucket_name=\"sagemaker-us-east-2-786796469737\"\n",
    "with open('result.txt', 'wb') as f:\n",
    "    s3_conn.download_fileobj(bucket_name,bucketFolder+'/self_driving.txt.out', f)\n",
    "    print(\"Output file loaded from bucket\")"
   ]
  },
  {
   "cell_type": "code",
   "execution_count": 15,
   "metadata": {},
   "outputs": [],
   "source": [
    "with open('./result.txt', 'rb') as file_stream:\n",
    "    output_text = file_stream.read().decode('utf-8')"
   ]
  },
  {
   "cell_type": "code",
   "execution_count": 16,
   "metadata": {},
   "outputs": [
    {
     "name": "stdout",
     "output_type": "stream",
     "text": [
      "Autonomous cars combine a variety of sensors to perceive their surroundings , such as radar , lidar , sonar , gps , odometry and inertial measurement units. ﻿an autonomous car , also known as a robotic car , self-driving car , or driverless car ,   is a vehicle that is capable of sensing its environment and moving with little or no human input. Advanced control systems interpret sensory information to identify appropriate navigation paths , as well as obstacles and relevant signage.\n",
      "Execution time : 1.93seconds\n",
      "\n"
     ]
    }
   ],
   "source": [
    "print(output_text)"
   ]
  },
  {
   "cell_type": "markdown",
   "metadata": {},
   "source": [
    "## Invoking through Endpoint\n",
    "This is another way of deploying the model that provides results as real time inference. Here is a sample endpoint for reference"
   ]
  },
  {
   "cell_type": "code",
   "execution_count": 17,
   "metadata": {},
   "outputs": [],
   "source": [
    "import json \n",
    "import uuid\n",
    "from sagemaker import ModelPackage\n",
    "import sagemaker as sage\n",
    "from sagemaker import get_execution_role\n",
    "from sagemaker import ModelPackage\n",
    "import boto3\n",
    "from IPython.display import Image\n",
    "from PIL import Image as ImageEdit\n",
    "\n",
    "role = get_execution_role()\n",
    "\n",
    "sagemaker_session = sage.Session()\n",
    "bucket=sagemaker_session.default_bucket()"
   ]
  },
  {
   "cell_type": "code",
   "execution_count": 18,
   "metadata": {},
   "outputs": [],
   "source": [
    "content_type='text/plain'\n",
    "model_name='summarizer-model'\n",
    "real_time_inference_instance_type='ml.c4.2xlarge'"
   ]
  },
  {
   "cell_type": "code",
   "execution_count": 19,
   "metadata": {},
   "outputs": [],
   "source": [
    "# Please use the appropriate ARN obtained after subscribing to the model to define 'model_package_arn'\n",
    "model_package_arn = 'arn:aws:sagemaker:us-east-2:786796469737:model-package/marketplace-text-summarizer-11-4'"
   ]
  },
  {
   "cell_type": "code",
   "execution_count": 20,
   "metadata": {},
   "outputs": [],
   "source": [
    "from sagemaker import ModelPackage\n",
    "import sagemaker as sage\n",
    "from sagemaker import get_execution_role\n",
    "\n",
    "role = get_execution_role()\n",
    "sagemaker_session = sage.Session()"
   ]
  },
  {
   "cell_type": "code",
   "execution_count": 21,
   "metadata": {},
   "outputs": [],
   "source": [
    "#Define predictor wrapper class\n",
    "def predict_wrapper(endpoint, session):\n",
    "    return sage.RealTimePredictor(endpoint, session,content_type=content_type)\n",
    "#create a deployable model from the model package.\n",
    "model = ModelPackage(role=role,\n",
    "                    model_package_arn=model_package_arn,\n",
    "                    sagemaker_session=sagemaker_session,\n",
    "                    predictor_cls=predict_wrapper)"
   ]
  },
  {
   "cell_type": "code",
   "execution_count": 22,
   "metadata": {},
   "outputs": [
    {
     "name": "stdout",
     "output_type": "stream",
     "text": [
      "-------------!"
     ]
    }
   ],
   "source": [
    "predictor = model.deploy(1, real_time_inference_instance_type, endpoint_name=model_name)"
   ]
  },
  {
   "cell_type": "markdown",
   "metadata": {},
   "source": [
    "###  1. Invoking endpoint result through CLI command"
   ]
  },
  {
   "cell_type": "code",
   "execution_count": 23,
   "metadata": {},
   "outputs": [],
   "source": [
    "file_name=\"self_driving_test.txt\""
   ]
  },
  {
   "cell_type": "code",
   "execution_count": 24,
   "metadata": {},
   "outputs": [
    {
     "name": "stdout",
     "output_type": "stream",
     "text": [
      "{\r\n",
      "    \"ContentType\": \"text/plain; charset=utf-8\",\r\n",
      "    \"InvokedProductionVariant\": \"AllTraffic\"\r\n",
      "}\r\n"
     ]
    }
   ],
   "source": [
    "!aws sagemaker-runtime invoke-endpoint --endpoint-name $model_name --body fileb://$file_name --content-type 'text/plain' --region us-east-2 result.txt"
   ]
  },
  {
   "cell_type": "code",
   "execution_count": 25,
   "metadata": {},
   "outputs": [
    {
     "name": "stdout",
     "output_type": "stream",
     "text": [
      "Autonomous cars combine a variety of sensors to perceive their surroundings , such as radar , lidar , sonar , gps , odometry and inertial measurement units. ﻿an autonomous car , also known as a robotic car , self-driving car , or driverless car ,   is a vehicle that is capable of sensing its environment and moving with little or no human input. Advanced control systems interpret sensory information to identify appropriate navigation paths , as well as obstacles and relevant signage.\n",
      "Execution time : 2.20seconds\n",
      "\n"
     ]
    }
   ],
   "source": [
    "with open('./result.txt', 'rb') as file_stream:\n",
    "    input_text = file_stream.read().decode('utf-8')\n",
    "print(input_text)"
   ]
  },
  {
   "cell_type": "markdown",
   "metadata": {},
   "source": [
    "### 2. Invoking endpoint result through python code"
   ]
  },
  {
   "cell_type": "code",
   "execution_count": 26,
   "metadata": {},
   "outputs": [],
   "source": [
    "f = open('./self_driving_test.txt', mode='r')\n",
    "data=f.read()\n",
    "prediction = predictor.predict(data)"
   ]
  },
  {
   "cell_type": "code",
   "execution_count": 33,
   "metadata": {},
   "outputs": [
    {
     "name": "stdout",
     "output_type": "stream",
     "text": [
      "Autonomous cars combine a variety of sensors to perceive their surroundings , such as radar , lidar , sonar , gps , odometry and inertial measurement units. ﻿an autonomous car , also known as a robotic car , self-driving car , or driverless car ,   is a vehicle that is capable of sensing its environment and moving with little or no human input. Advanced control systems interpret sensory information to identify appropriate navigation paths , as well as obstacles and relevant signage.\n",
      "Execution time : 1.73seconds\n",
      "\n"
     ]
    }
   ],
   "source": [
    "from io import StringIO\n",
    "\n",
    "s=str(prediction,'utf-8')\n",
    "data = StringIO(s) \n",
    "print(data.read())"
   ]
  },
  {
   "cell_type": "code",
   "execution_count": null,
   "metadata": {},
   "outputs": [],
   "source": []
  }
 ],
 "metadata": {
  "kernelspec": {
   "display_name": "conda_python3",
   "language": "python",
   "name": "conda_python3"
  },
  "language_info": {
   "codemirror_mode": {
    "name": "ipython",
    "version": 3
   },
   "file_extension": ".py",
   "mimetype": "text/x-python",
   "name": "python",
   "nbconvert_exporter": "python",
   "pygments_lexer": "ipython3",
   "version": "3.6.5"
  }
 },
 "nbformat": 4,
 "nbformat_minor": 2
}
